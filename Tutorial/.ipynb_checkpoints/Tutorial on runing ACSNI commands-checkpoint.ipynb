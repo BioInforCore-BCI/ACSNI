{
 "cells": [
  {
   "cell_type": "markdown",
   "id": "3afc2bfd",
   "metadata": {},
   "source": [
    "# OVERVIEW\n",
    "\n",
    "Determining context-specific circuit of biological pathways is a fundamental goal of molecular cell biology.\n",
    "ACSNI combines prior knowledge of biological processes (gene set) with a deep neural network to decompose gene \n",
    "expression profiles (GEP) into pathway activities and identify unknown pathway components, see Anene et al., 2021.\n",
    "\n",
    "# Required inputs\n",
    "\n",
    "1. Gene expression matrix with genes in rows and samples in columns (format .csv).\n",
    "2. Gene set membership file representing prior knowledge of gene functions (format .csv)\n",
    "   For a single gene analysis, the second input is a gene name provided at run time.\n",
    "3. Optional-optional weights file (as integer values) for the genes in the second input. \n",
    "\n",
    "\n",
    "# CASES\n",
    "\n",
    "For this tutorial, we will use the cases reported in the manuscript (Anene et al., 2021) to demonstrate how to set up, run ACSNI, interpret the results and navigate the extended database. "
   ]
  },
  {
   "cell_type": "markdown",
   "id": "a528964a",
   "metadata": {},
   "source": [
    "# INSTALLATION\n",
    "\n",
    "You can install ACSNI with the PIP command, which automates installing the required packages (e.g. Tensorflow). \n",
    "\n",
    "Ensure you have python version 3.8 installed before running the code below; if not, see https://www.python.org/downloads/"
   ]
  },
  {
   "cell_type": "code",
   "execution_count": null,
   "id": "91ff9037",
   "metadata": {},
   "outputs": [],
   "source": [
    "!pip3 install ACSNI\n",
    "# or \n",
    "!pip install ACSNI"
   ]
  },
  {
   "cell_type": "markdown",
   "id": "ccb2e9f4",
   "metadata": {},
   "source": [
    "The above should install the latest version of ACSNI. \n",
    "\n",
    "In addition to specifying a version during installation (pythonic way), \n",
    "You can also install directly from the .wheel file provided at https://github.com/caanene1/ACSNI or\n",
    "compile the code yourself."
   ]
  },
  {
   "cell_type": "markdown",
   "id": "fdda455c",
   "metadata": {},
   "source": [
    "ACSNI has three entry commands, including:\n",
    "- ACSNI-run : multiple genes prior\n",
    "- ACSNI-derive : single gene prior\n",
    "- ACSNI-get : phenotype linking\n",
    "\n",
    "Run the code with option -h to check installation and parameters.\n",
    "Below are the arguments for the ACSNI-run entrance.\n",
    "\n",
    "Further, you can use ACSNI functions can be used in regular python imports and calls."
   ]
  },
  {
   "cell_type": "code",
   "execution_count": 36,
   "id": "01d2e070",
   "metadata": {},
   "outputs": [
    {
     "name": "stdout",
     "output_type": "stream",
     "text": [
      "usage: ACSNI-run [-h] [-m MAD] [-b BOOT] [-c ALPHA] [-p LP] [-f FULL] -i INPUT\n",
      "                 -t PRIOR [-w WEIGHT] [-s SEED]\n",
      "\n",
      "System biology information extraction for genomics.\n",
      "\n",
      "optional arguments:\n",
      "  -h, --help            show this help message and exit\n",
      "  -m MAD, --mad MAD     Minimum median absolute deviance for geneSets\n",
      "  -b BOOT, --boot BOOT  Number of ensemble models to run\n",
      "  -c ALPHA, --alpha ALPHA\n",
      "                        Alpha threshold to make prediction calls\n",
      "  -p LP, --lp LP        Dimension of the pathway layer. It is also half of the\n",
      "                        subprocess,set to 0 or default for automatic\n",
      "                        estimation\n",
      "  -f FULL, --full FULL  Run tool in 1=full 0=sub (error only) mode\n",
      "  -i INPUT, --input INPUT\n",
      "                        Input expression data (.csv)\n",
      "  -t PRIOR, --prior PRIOR\n",
      "                        Prior matrix, binary\n",
      "  -w WEIGHT, --weight WEIGHT\n",
      "                        Use weights for the genes\n",
      "  -s SEED, --seed SEED  Set seed for reproducibility\n"
     ]
    }
   ],
   "source": [
    "!ACSNI-run -h"
   ]
  },
  {
   "cell_type": "markdown",
   "id": "dcc499d0",
   "metadata": {},
   "source": [
    "Except for the two required arguments -i and -t, the rest of the arguments have well-tested defaults. \n",
    "You can tune these parameters to your specific needs. Caution!!"
   ]
  },
  {
   "cell_type": "markdown",
   "id": "394a5706",
   "metadata": {},
   "source": [
    "# mTOR case\n",
    "The first case infers the extended mTOR signalling network in clear cell renal cell carcinoma (ccRCC).\n",
    "\n",
    "Input Files (included): \n",
    "    1. TCGA_.csv - gene expression matrix (source-TCGA)\n",
    "    2. mTOR.csv - mTOR gene set from Pathway interaction database\n",
    "    3. sample_info.csv - sample phenotype for the first input\n",
    "\n",
    "Here, we set the -f to 1 for the full run and output\n",
    "                 -p to 0 for automatic estimation of layers\n",
    "                 -b to 5 for five models and \n",
    "                 -m to 2.5 for minimum absolute deviation"
   ]
  },
  {
   "cell_type": "code",
   "execution_count": 37,
   "id": "50fcd9c9",
   "metadata": {},
   "outputs": [
    {
     "name": "stdout",
     "output_type": "stream",
     "text": [
      "Running for PID_MTOR_4PATHWAY\n",
      "Results will be saved to TCGA_PID_MTOR_4PATHWAY-704AHXJ\n",
      "Geneset with 67 genes in the expression\n",
      "146 samples\n",
      "2021-04-02 20:13:24.916282: I tensorflow/compiler/jit/xla_cpu_device.cc:41] Not creating XLA devices, tf_xla_enable_xla_devices not set\n",
      "2021-04-02 20:13:24.919062: I tensorflow/core/platform/cpu_feature_guard.cc:142] This TensorFlow binary is optimized with oneAPI Deep Neural Network Library (oneDNN) to use the following CPU instructions in performance-critical operations:  AVX2 FMA\n",
      "To enable them in other operations, rebuild TensorFlow with the appropriate compiler flags.\n",
      "2021-04-02 20:13:25.041742: I tensorflow/compiler/mlir/mlir_graph_optimization_pass.cc:116] None of the MLIR optimization passes are enabled (registered 2)\n",
      "The optimal number of dimension is 11\n",
      "Geneset with 67 genes in the expression\n",
      "146 samples\n",
      "Geneset with 67 genes in the expression\n",
      "146 samples\n",
      "Geneset with 67 genes in the expression\n",
      "146 samples\n",
      "Geneset with 67 genes in the expression\n",
      "146 samples\n"
     ]
    }
   ],
   "source": [
    "!ACSNI-run -i TCGA_.csv -t mTOR.csv -f 1 -p 0 -b 5 -m 2.5"
   ]
  },
  {
   "cell_type": "markdown",
   "id": "164b1d48",
   "metadata": {},
   "source": [
    "The command will print the run progress and location of the output.\n",
    "As shown above, the results are in the folder \"TCGA_PID_MTOR_4PATHWAY-704AHXJ\".\n",
    "We can visualise the contents of the output folder below."
   ]
  },
  {
   "cell_type": "code",
   "execution_count": 38,
   "id": "0cdd7c1e",
   "metadata": {},
   "outputs": [
    {
     "name": "stdout",
     "output_type": "stream",
     "text": [
      "NULL_TCGA_.csv    Network_TCGA_.csv dbsTCGA_.ptl\n"
     ]
    }
   ],
   "source": [
    "!ls TCGA_PID_MTOR_4PATHWAY-704AHXJ"
   ]
  },
  {
   "cell_type": "markdown",
   "id": "1c3c95a2",
   "metadata": {},
   "source": [
    "The output of ACSNI-run can be identified by the prefix, specifically:\n",
    "\n",
    "NULL - randomly shuffled expression matrix derived from -i. You can use it to check randomness in the predictions. For this, rerun the model with the argument -i set to this file.\n",
    "\n",
    "dbs - is the database of intermediate files and run details.\n",
    "\n",
    "Network - the inferred network and components. Most users only need this output."
   ]
  },
  {
   "cell_type": "code",
   "execution_count": 39,
   "id": "08d60cb7",
   "metadata": {},
   "outputs": [
    {
     "name": "stdout",
     "output_type": "stream",
     "text": [
      "name,sub,Direction\n",
      "ANAPC13,AE_SE8IA2_0,0.0067188637331128\n",
      "ANKRD46,AE_SE8IA2_0,0.0033135202247649\n",
      "ATP9A,AE_SE8IA2_0,0.0136904744431376\n",
      "BPGM,AE_SE8IA2_0,0.0053974902257323\n",
      "C18orf32,AE_SE8IA2_0,0.0077944286167621\n",
      "C6orf226,AE_SE8IA2_0,0.0003798712568823\n",
      "C8orf80,AE_SE8IA2_0,-0.0013907115207985\n",
      "CCDC56,AE_SE8IA2_0,0.0074006947688758\n",
      "COL24A1,AE_SE8IA2_0,0.0001676924148341\n"
     ]
    }
   ],
   "source": [
    "!head TCGA_PID_MTOR_4PATHWAY-704AHXJ/Network_TCGA_.csv"
   ]
  },
  {
   "cell_type": "markdown",
   "id": "cc5fce81",
   "metadata": {},
   "source": [
    "It has three columns including :\n",
    "    1. name - gene name, \n",
    "    2. sub - name of the inferred sub-network \n",
    "    3. Direction - strength and direction of the interaction within the sub-network"
   ]
  },
  {
   "cell_type": "markdown",
   "id": "c7b5c97c",
   "metadata": {},
   "source": [
    "# Advanced useage\n",
    "You can further inspect the dbs output of ACSNI-run using the python pickle package. Internally, the database is a python class with methods and members.\n",
    "\n",
    "This database also contains predictions made through linear decomposition approaches; see Anene et al., 2021."
   ]
  },
  {
   "cell_type": "code",
   "execution_count": 40,
   "id": "8973ec77",
   "metadata": {},
   "outputs": [
    {
     "data": {
      "text/plain": [
       "\n",
       "ACSNI result with 14 modules over 5 bootstraps."
      ]
     },
     "execution_count": 40,
     "metadata": {},
     "output_type": "execute_result"
    }
   ],
   "source": [
    "# Import the os and pickle packages\n",
    "import os\n",
    "import pickle\n",
    "\n",
    "# Load the database and visualise the information\n",
    "database = pickle.load(open(\"TCGA_PID_MTOR_4PATHWAY-704AHXJ/dbsTCGA_.ptl\", \"rb\"))\n",
    "database"
   ]
  },
  {
   "cell_type": "code",
   "execution_count": 41,
   "id": "544f7e7a",
   "metadata": {
    "scrolled": true
   },
   "outputs": [
    {
     "data": {
      "text/html": [
       "<div>\n",
       "<style scoped>\n",
       "    .dataframe tbody tr th:only-of-type {\n",
       "        vertical-align: middle;\n",
       "    }\n",
       "\n",
       "    .dataframe tbody tr th {\n",
       "        vertical-align: top;\n",
       "    }\n",
       "\n",
       "    .dataframe thead th {\n",
       "        text-align: right;\n",
       "    }\n",
       "</style>\n",
       "<table border=\"1\" class=\"dataframe\">\n",
       "  <thead>\n",
       "    <tr style=\"text-align: right;\">\n",
       "      <th></th>\n",
       "      <th>AE_SE8IA2_0</th>\n",
       "      <th>AE_SE8IA2_1</th>\n",
       "      <th>AE_SE8IA2_2</th>\n",
       "      <th>AE_SE8IA2_3</th>\n",
       "      <th>AE_SE8IA2_4</th>\n",
       "      <th>AE_SE8IA2_5</th>\n",
       "      <th>AE_SE8IA2_6</th>\n",
       "      <th>AE_SE8IA2_7</th>\n",
       "      <th>AE_SE8IA2_8</th>\n",
       "      <th>AE_SE8IA2_9</th>\n",
       "      <th>...</th>\n",
       "      <th>AE_QD6XXF_8</th>\n",
       "      <th>AE_QD6XXF_9</th>\n",
       "      <th>AE_QD6XXF_10</th>\n",
       "      <th>PCA_QD6XXF_0</th>\n",
       "      <th>NMF_QD6XXF_0</th>\n",
       "      <th>NMF_QD6XXF_1</th>\n",
       "      <th>MEDIAN_QD6XXF_0</th>\n",
       "      <th>Predicted</th>\n",
       "      <th>Sum_stat</th>\n",
       "      <th>Boot_Count</th>\n",
       "    </tr>\n",
       "    <tr>\n",
       "      <th>name</th>\n",
       "      <th></th>\n",
       "      <th></th>\n",
       "      <th></th>\n",
       "      <th></th>\n",
       "      <th></th>\n",
       "      <th></th>\n",
       "      <th></th>\n",
       "      <th></th>\n",
       "      <th></th>\n",
       "      <th></th>\n",
       "      <th></th>\n",
       "      <th></th>\n",
       "      <th></th>\n",
       "      <th></th>\n",
       "      <th></th>\n",
       "      <th></th>\n",
       "      <th></th>\n",
       "      <th></th>\n",
       "      <th></th>\n",
       "      <th></th>\n",
       "      <th></th>\n",
       "    </tr>\n",
       "  </thead>\n",
       "  <tbody>\n",
       "    <tr>\n",
       "      <th>A1BG</th>\n",
       "      <td>B</td>\n",
       "      <td>B</td>\n",
       "      <td>B</td>\n",
       "      <td>B</td>\n",
       "      <td>B</td>\n",
       "      <td>B</td>\n",
       "      <td>B</td>\n",
       "      <td>B</td>\n",
       "      <td>B</td>\n",
       "      <td>B</td>\n",
       "      <td>...</td>\n",
       "      <td>B</td>\n",
       "      <td>B</td>\n",
       "      <td>B</td>\n",
       "      <td>B</td>\n",
       "      <td>B</td>\n",
       "      <td>B</td>\n",
       "      <td>B</td>\n",
       "      <td>0</td>\n",
       "      <td>0</td>\n",
       "      <td>5</td>\n",
       "    </tr>\n",
       "    <tr>\n",
       "      <th>A1CF</th>\n",
       "      <td>B</td>\n",
       "      <td>B</td>\n",
       "      <td>B</td>\n",
       "      <td>B</td>\n",
       "      <td>B</td>\n",
       "      <td>B</td>\n",
       "      <td>B</td>\n",
       "      <td>B</td>\n",
       "      <td>B</td>\n",
       "      <td>B</td>\n",
       "      <td>...</td>\n",
       "      <td>B</td>\n",
       "      <td>B</td>\n",
       "      <td>B</td>\n",
       "      <td>B</td>\n",
       "      <td>B</td>\n",
       "      <td>B</td>\n",
       "      <td>B</td>\n",
       "      <td>0</td>\n",
       "      <td>1</td>\n",
       "      <td>5</td>\n",
       "    </tr>\n",
       "    <tr>\n",
       "      <th>A2LD1</th>\n",
       "      <td>B</td>\n",
       "      <td>B</td>\n",
       "      <td>B</td>\n",
       "      <td>B</td>\n",
       "      <td>B</td>\n",
       "      <td>B</td>\n",
       "      <td>B</td>\n",
       "      <td>B</td>\n",
       "      <td>B</td>\n",
       "      <td>B</td>\n",
       "      <td>...</td>\n",
       "      <td>B</td>\n",
       "      <td>B</td>\n",
       "      <td>B</td>\n",
       "      <td>B</td>\n",
       "      <td>B</td>\n",
       "      <td>B</td>\n",
       "      <td>B</td>\n",
       "      <td>0</td>\n",
       "      <td>1</td>\n",
       "      <td>5</td>\n",
       "    </tr>\n",
       "    <tr>\n",
       "      <th>A2M</th>\n",
       "      <td>B</td>\n",
       "      <td>B</td>\n",
       "      <td>B</td>\n",
       "      <td>B</td>\n",
       "      <td>B</td>\n",
       "      <td>B</td>\n",
       "      <td>B</td>\n",
       "      <td>B</td>\n",
       "      <td>B</td>\n",
       "      <td>B</td>\n",
       "      <td>...</td>\n",
       "      <td>B</td>\n",
       "      <td>B</td>\n",
       "      <td>B</td>\n",
       "      <td>B</td>\n",
       "      <td>B</td>\n",
       "      <td>B</td>\n",
       "      <td>B</td>\n",
       "      <td>0</td>\n",
       "      <td>0</td>\n",
       "      <td>5</td>\n",
       "    </tr>\n",
       "    <tr>\n",
       "      <th>A4GALT</th>\n",
       "      <td>B</td>\n",
       "      <td>B</td>\n",
       "      <td>B</td>\n",
       "      <td>B</td>\n",
       "      <td>B</td>\n",
       "      <td>B</td>\n",
       "      <td>B</td>\n",
       "      <td>B</td>\n",
       "      <td>B</td>\n",
       "      <td>B</td>\n",
       "      <td>...</td>\n",
       "      <td>B</td>\n",
       "      <td>B</td>\n",
       "      <td>B</td>\n",
       "      <td>B</td>\n",
       "      <td>B</td>\n",
       "      <td>B</td>\n",
       "      <td>B</td>\n",
       "      <td>0</td>\n",
       "      <td>0</td>\n",
       "      <td>5</td>\n",
       "    </tr>\n",
       "  </tbody>\n",
       "</table>\n",
       "<p>5 rows × 82 columns</p>\n",
       "</div>"
      ],
      "text/plain": [
       "       AE_SE8IA2_0 AE_SE8IA2_1 AE_SE8IA2_2 AE_SE8IA2_3 AE_SE8IA2_4  \\\n",
       "name                                                                 \n",
       "A1BG             B           B           B           B           B   \n",
       "A1CF             B           B           B           B           B   \n",
       "A2LD1            B           B           B           B           B   \n",
       "A2M              B           B           B           B           B   \n",
       "A4GALT           B           B           B           B           B   \n",
       "\n",
       "       AE_SE8IA2_5 AE_SE8IA2_6 AE_SE8IA2_7 AE_SE8IA2_8 AE_SE8IA2_9  ...  \\\n",
       "name                                                                ...   \n",
       "A1BG             B           B           B           B           B  ...   \n",
       "A1CF             B           B           B           B           B  ...   \n",
       "A2LD1            B           B           B           B           B  ...   \n",
       "A2M              B           B           B           B           B  ...   \n",
       "A4GALT           B           B           B           B           B  ...   \n",
       "\n",
       "       AE_QD6XXF_8 AE_QD6XXF_9 AE_QD6XXF_10 PCA_QD6XXF_0 NMF_QD6XXF_0  \\\n",
       "name                                                                    \n",
       "A1BG             B           B            B            B            B   \n",
       "A1CF             B           B            B            B            B   \n",
       "A2LD1            B           B            B            B            B   \n",
       "A2M              B           B            B            B            B   \n",
       "A4GALT           B           B            B            B            B   \n",
       "\n",
       "        NMF_QD6XXF_1 MEDIAN_QD6XXF_0 Predicted Sum_stat Boot_Count  \n",
       "name                                                                \n",
       "A1BG               B               B         0        0          5  \n",
       "A1CF               B               B         0        1          5  \n",
       "A2LD1              B               B         0        1          5  \n",
       "A2M                B               B         0        0          5  \n",
       "A4GALT             B               B         0        0          5  \n",
       "\n",
       "[5 rows x 82 columns]"
      ]
     },
     "execution_count": 41,
     "metadata": {},
     "output_type": "execute_result"
    }
   ],
   "source": [
    "# Extract run information\n",
    "database.get_run_info()\n",
    "\n",
    "# Extract predicted network and save to file\n",
    "output = database.get_p()\n",
    "output.to_csv(\"TCGA_PID_MTOR_4PATHWAY-704AHXJ/results.csv\")\n",
    "\n",
    "# This file has extended output, including results from decomposing with PCA, NMF and median\n",
    "output.head(5)"
   ]
  },
  {
   "cell_type": "markdown",
   "id": "5c7c6bce",
   "metadata": {},
   "source": [
    "Above the column prefix allows for additional assessement agaisnt linear methods\n",
    "AE_  autoencoder decomposition\n",
    "NMF_ non-negative factorisation\n",
    "PCA_ principle component analysis \n",
    "MEDIAN_ simple median expression "
   ]
  },
  {
   "cell_type": "markdown",
   "id": "aed25d71",
   "metadata": {},
   "source": [
    "> Linking to phenotype\n",
    "Further, you can link the predicted sub-processes to clinical or biological information. \n",
    "In the included \"sample_info.csv\" contains a grouping variable 1.normal and 2.tumour.\n",
    "\n",
    "We can check the file"
   ]
  },
  {
   "cell_type": "code",
   "execution_count": 1,
   "id": "80869e0e",
   "metadata": {},
   "outputs": [
    {
     "name": "stdout",
     "output_type": "stream",
     "text": [
      "ID,group\r",
      "\r\n",
      "TCGA.A3.3358.11A.01R.1541.07,Normal\r",
      "\r\n",
      "TCGA.A3.3358.01A.01R.1541.07,Tumor\r",
      "\r\n",
      "TCGA.A3.3387.11A.01R.1541.07,Normal\r",
      "\r\n",
      "TCGA.A3.3387.01A.01R.1541.07,Tumor\r",
      "\r\n",
      "TCGA.B0.4700.11A.01R.1541.07,Normal\r",
      "\r\n",
      "TCGA.B0.4700.01A.02R.1541.07,Tumor\r",
      "\r\n",
      "TCGA.B0.4712.11A.02R.1503.07,Normal\r",
      "\r\n",
      "TCGA.B0.4712.01A.01R.1503.07,Tumor\r",
      "\r\n",
      "TCGA.B0.5402.11A.01R.1503.07,Normal\r",
      "\r\n"
     ]
    }
   ],
   "source": [
    "!head sample_info.csv"
   ]
  },
  {
   "cell_type": "markdown",
   "id": "395d90fd",
   "metadata": {},
   "source": [
    "Then, we can run the ACSNI-get command with the database and the sample information file."
   ]
  },
  {
   "cell_type": "code",
   "execution_count": 42,
   "id": "7eb0fa7d",
   "metadata": {},
   "outputs": [
    {
     "name": "stdout",
     "output_type": "stream",
     "text": [
      "Statistics of variations in subprocesses explained by group\n",
      "q25 0.5068493150684932 \n",
      " q75 0.5856164383561644 \n",
      " mean 0.5620174346201743 \n",
      " std 0.09858342604975479\n",
      "sub,0,Association\n",
      "AE_SE8IA2_0,0.5342465753424658,Weak\n",
      "AE_SE8IA2_1,0.5068493150684932,Weak\n",
      "AE_SE8IA2_2,0.4863013698630137,Weak\n",
      "AE_SE8IA2_3,0.6712328767123288,Strong\n",
      "AE_SE8IA2_4,0.589041095890411,Strong\n",
      "AE_SE8IA2_5,0.5068493150684932,Weak\n",
      "AE_SE8IA2_6,0.7054794520547946,Strong\n",
      "AE_SE8IA2_7,0.5958904109589042,Strong\n",
      "AE_SE8IA2_8,0.4863013698630137,Weak\n"
     ]
    }
   ],
   "source": [
    "!ACSNI-get -r TCGA_PID_MTOR_4PATHWAY-704AHXJ/dbsTCGA_.ptl -v sample_info.csv -c character\n",
    "!head group_to\\ subprocess\\ associations.csv"
   ]
  },
  {
   "cell_type": "markdown",
   "id": "c7dc8bf4",
   "metadata": {},
   "source": [
    "# ATF2 case\n",
    "The second case investigates ATF2-dependent bzip transcriptional output in healthy artery aorta.\n",
    "\n",
    "Input Files (included): \n",
    "    1. AA_.csv - gene expression matrix (soruce-GTEX)\n",
    "    2. ATF2.csv - ATF2 gene set from Pathway interaction database\n",
    "\n",
    "Here, we set the -f to 1 for a full run and output\n",
    "                 -p to 0 for automatic estimation of layers\n",
    "                 -b to 10 for ten models and \n",
    "                 -m to 1.2 for minimum absolute deviation"
   ]
  },
  {
   "cell_type": "code",
   "execution_count": 43,
   "id": "aec7312f",
   "metadata": {
    "scrolled": false
   },
   "outputs": [
    {
     "name": "stdout",
     "output_type": "stream",
     "text": [
      "Running for PID_ATF2_PATHWAY\n",
      "Results will be saved to AA_PID_ATF2_PATHWAY-51GJJUE\n",
      "Geneset with 37 genes in the expression\n",
      "432 samples\n",
      "2021-04-02 20:34:22.983361: I tensorflow/compiler/jit/xla_cpu_device.cc:41] Not creating XLA devices, tf_xla_enable_xla_devices not set\n",
      "2021-04-02 20:34:22.983526: I tensorflow/core/platform/cpu_feature_guard.cc:142] This TensorFlow binary is optimized with oneAPI Deep Neural Network Library (oneDNN) to use the following CPU instructions in performance-critical operations:  AVX2 FMA\n",
      "To enable them in other operations, rebuild TensorFlow with the appropriate compiler flags.\n",
      "2021-04-02 20:34:23.045616: I tensorflow/compiler/mlir/mlir_graph_optimization_pass.cc:116] None of the MLIR optimization passes are enabled (registered 2)\n",
      "The optimal number of dimension is 5\n",
      "Geneset with 37 genes in the expression\n",
      "432 samples\n",
      "Geneset with 37 genes in the expression\n",
      "432 samples\n",
      "Geneset with 37 genes in the expression\n",
      "432 samples\n",
      "Geneset with 37 genes in the expression\n",
      "432 samples\n",
      "Geneset with 37 genes in the expression\n",
      "432 samples\n",
      "Geneset with 37 genes in the expression\n",
      "432 samples\n",
      "Geneset with 37 genes in the expression\n",
      "432 samples\n",
      "Geneset with 37 genes in the expression\n",
      "432 samples\n",
      "Geneset with 37 genes in the expression\n",
      "432 samples\n"
     ]
    }
   ],
   "source": [
    "!ACSNI-run -i AA_.csv -t ATF2.csv -f 1 -p 0 -b 10 -m 1.2"
   ]
  },
  {
   "cell_type": "markdown",
   "id": "b5777b96",
   "metadata": {},
   "source": [
    "# HOTAIRM1 case\n",
    "Third case explores the regulaotry network of the lncRNA HOTAIRM1 in healthy kidney. \n",
    "It is a case of a single gene, thus we need the ACSNI-derive command.\n",
    "\n",
    "Input Files (not included)\n",
    "    1. KID_.csv - gene expression matrix (soruce-GTEX)\n",
    "    2. \"ENSG00000233429\" - gene ID for HOTAIRM1\n",
    "    3. btype.csv - gene biotype information for the first input\n",
    "    4. exclude.csv - exclude biotype file for the third input \n",
    "\n",
    "Before runing the command, we can check the arguments as before."
   ]
  },
  {
   "cell_type": "code",
   "execution_count": 3,
   "id": "3849bbaa",
   "metadata": {},
   "outputs": [
    {
     "name": "stdout",
     "output_type": "stream",
     "text": [
      "usage: ACSNI-derive [-h] -i INPUT -g GENE [-f BIO_FILE] [-b BIO_TYPE] [-m MAD]\r\n",
      "                    [-p LP] [-c ALPHA] [-ex EXCLUDE] [-t CT] [-z PC]\r\n",
      "                    [-u CORR_FILE]\r\n",
      "\r\n",
      "De-Novo generation of gene sets\r\n",
      "\r\n",
      "optional arguments:\r\n",
      "  -h, --help            show this help message and exit\r\n",
      "  -i INPUT, --input INPUT\r\n",
      "                        Input expression data (.csv)\r\n",
      "  -g GENE, --gene GENE  Gene ID/symbol to analyse\r\n",
      "  -f BIO_FILE, --bio_file BIO_FILE\r\n",
      "                        Gene Bio_type table (.csv)\r\n",
      "  -b BIO_TYPE, --bio_type BIO_TYPE\r\n",
      "                        Gene Bio_type of interest\r\n",
      "  -m MAD, --mad MAD     Minimum median absolute deviation\r\n",
      "  -p LP, --lp LP        Percentage of gene_set for model layers\r\n",
      "  -c ALPHA, --alpha ALPHA\r\n",
      "                        Alpha threshold to make prediction calls\r\n",
      "  -ex EXCLUDE, --exclude EXCLUDE\r\n",
      "                        Name of bio_types to exclude in csv format\r\n",
      "  -t CT, --ct CT        Threshold to use for correlation\r\n",
      "  -z PC, --pc PC        Number of prior matrix columns\r\n",
      "  -u CORR_FILE, --corr_file CORR_FILE\r\n",
      "                        Pre-computed top correlated genes (.csv)\r\n"
     ]
    }
   ],
   "source": [
    "!ACSNI-derive -h"
   ]
  },
  {
   "cell_type": "markdown",
   "id": "59dd6244",
   "metadata": {},
   "source": [
    "Run the command"
   ]
  },
  {
   "cell_type": "code",
   "execution_count": null,
   "id": "4985afca",
   "metadata": {},
   "outputs": [],
   "source": [
    "ACSNI-derive -f btype.csv -b \"lncRNA\" -i kid_.csv -m 1.2 -g \"ENSG00000233429\" --ct 0.80 --pc 5 --ex exclude.csv"
   ]
  },
  {
   "cell_type": "code",
   "execution_count": null,
   "id": "aaba58f6",
   "metadata": {},
   "outputs": [],
   "source": [
    "This run has three outputs, which can be identifed by the prefix, including\n",
    "\"NULL\" data for randomness assessment and \"dbs\" for intermediate files assess, as described before. \n",
    "Please, note that the \"dbs\" file here cannot be used with ACSNI-get command as it is not meanginful. \n",
    "You can correlate the expression of the single gene to your phenotype directly.\n",
    "\n",
    "Finally, this command outputs the prediction in \"Predicted\", which is a list of predicted genes.\n",
    "Most users of this command only need this file."
   ]
  },
  {
   "cell_type": "markdown",
   "id": "98ddb501",
   "metadata": {},
   "source": [
    "# Conclusion\n",
    "The tutorial shows how to use the different ACSNI commands. The predicted genes are the components of the analysed pathways or network; see the original manuscript. Ultimately, you should apply orthogonal validation to refine the predictions; please see the original manuscript for an extended discussion on such approaches.\n",
    "\n",
    "The included R-scripts further demonstrates some downstream analysis and other approaches are available depending on your intended use case (hypothesis generation or conclusive insight)."
   ]
  }
 ],
 "metadata": {
  "kernelspec": {
   "display_name": "Python 3",
   "language": "python",
   "name": "python3"
  },
  "language_info": {
   "codemirror_mode": {
    "name": "ipython",
    "version": 3
   },
   "file_extension": ".py",
   "mimetype": "text/x-python",
   "name": "python",
   "nbconvert_exporter": "python",
   "pygments_lexer": "ipython3",
   "version": "3.8.6"
  }
 },
 "nbformat": 4,
 "nbformat_minor": 5
}
